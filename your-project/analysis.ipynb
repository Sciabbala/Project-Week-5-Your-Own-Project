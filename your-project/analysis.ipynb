{
 "cells": [
  {
   "cell_type": "code",
   "execution_count": 1,
   "metadata": {},
   "outputs": [],
   "source": [
    "import pandas as pd\n",
    "import numpy as np\n",
    "from datetime import date, datetime\n",
    "import matplotlib.pyplot as plt\n",
    "from scipy import stats"
   ]
  },
  {
   "cell_type": "code",
   "execution_count": 2,
   "metadata": {},
   "outputs": [
    {
     "name": "stderr",
     "output_type": "stream",
     "text": [
      "/home/linuxbrew/.linuxbrew/opt/python/lib/python3.7/site-packages/numpy/lib/arraysetops.py:569: FutureWarning: elementwise comparison failed; returning scalar instead, but in the future will perform elementwise comparison\n",
      "  mask |= (ar1 == a)\n"
     ]
    }
   ],
   "source": [
    "df = pd.read_csv('wildfires_clean.csv', index_col=0)"
   ]
  },
  {
   "cell_type": "code",
   "execution_count": 3,
   "metadata": {},
   "outputs": [
    {
     "data": {
      "text/html": [
       "<div>\n",
       "<style scoped>\n",
       "    .dataframe tbody tr th:only-of-type {\n",
       "        vertical-align: middle;\n",
       "    }\n",
       "\n",
       "    .dataframe tbody tr th {\n",
       "        vertical-align: top;\n",
       "    }\n",
       "\n",
       "    .dataframe thead th {\n",
       "        text-align: right;\n",
       "    }\n",
       "</style>\n",
       "<table border=\"1\" class=\"dataframe\">\n",
       "  <thead>\n",
       "    <tr style=\"text-align: right;\">\n",
       "      <th></th>\n",
       "      <th>id</th>\n",
       "      <th>year</th>\n",
       "      <th>disc_date</th>\n",
       "      <th>disc_doy</th>\n",
       "      <th>cause_code</th>\n",
       "      <th>cause</th>\n",
       "      <th>size</th>\n",
       "      <th>size_class</th>\n",
       "      <th>lat</th>\n",
       "      <th>lon</th>\n",
       "      <th>state</th>\n",
       "    </tr>\n",
       "  </thead>\n",
       "  <tbody>\n",
       "    <tr>\n",
       "      <th>0</th>\n",
       "      <td>1</td>\n",
       "      <td>2005</td>\n",
       "      <td>2005-02-02</td>\n",
       "      <td>33</td>\n",
       "      <td>9.0</td>\n",
       "      <td>Miscellaneous</td>\n",
       "      <td>0.10</td>\n",
       "      <td>A</td>\n",
       "      <td>40.036944</td>\n",
       "      <td>-121.005833</td>\n",
       "      <td>CA</td>\n",
       "    </tr>\n",
       "    <tr>\n",
       "      <th>1</th>\n",
       "      <td>2</td>\n",
       "      <td>2004</td>\n",
       "      <td>2004-05-12</td>\n",
       "      <td>133</td>\n",
       "      <td>1.0</td>\n",
       "      <td>Lightning</td>\n",
       "      <td>0.25</td>\n",
       "      <td>A</td>\n",
       "      <td>38.933056</td>\n",
       "      <td>-120.404444</td>\n",
       "      <td>CA</td>\n",
       "    </tr>\n",
       "    <tr>\n",
       "      <th>2</th>\n",
       "      <td>3</td>\n",
       "      <td>2004</td>\n",
       "      <td>2004-05-31</td>\n",
       "      <td>152</td>\n",
       "      <td>5.0</td>\n",
       "      <td>Debris Burning</td>\n",
       "      <td>0.10</td>\n",
       "      <td>A</td>\n",
       "      <td>38.984167</td>\n",
       "      <td>-120.735556</td>\n",
       "      <td>CA</td>\n",
       "    </tr>\n",
       "    <tr>\n",
       "      <th>3</th>\n",
       "      <td>4</td>\n",
       "      <td>2004</td>\n",
       "      <td>2004-06-28</td>\n",
       "      <td>180</td>\n",
       "      <td>1.0</td>\n",
       "      <td>Lightning</td>\n",
       "      <td>0.10</td>\n",
       "      <td>A</td>\n",
       "      <td>38.559167</td>\n",
       "      <td>-119.913333</td>\n",
       "      <td>CA</td>\n",
       "    </tr>\n",
       "    <tr>\n",
       "      <th>4</th>\n",
       "      <td>5</td>\n",
       "      <td>2004</td>\n",
       "      <td>2004-06-28</td>\n",
       "      <td>180</td>\n",
       "      <td>1.0</td>\n",
       "      <td>Lightning</td>\n",
       "      <td>0.10</td>\n",
       "      <td>A</td>\n",
       "      <td>38.559167</td>\n",
       "      <td>-119.933056</td>\n",
       "      <td>CA</td>\n",
       "    </tr>\n",
       "  </tbody>\n",
       "</table>\n",
       "</div>"
      ],
      "text/plain": [
       "   id  year   disc_date  disc_doy  cause_code           cause  size  \\\n",
       "0   1  2005  2005-02-02        33         9.0   Miscellaneous  0.10   \n",
       "1   2  2004  2004-05-12       133         1.0       Lightning  0.25   \n",
       "2   3  2004  2004-05-31       152         5.0  Debris Burning  0.10   \n",
       "3   4  2004  2004-06-28       180         1.0       Lightning  0.10   \n",
       "4   5  2004  2004-06-28       180         1.0       Lightning  0.10   \n",
       "\n",
       "  size_class        lat         lon state  \n",
       "0          A  40.036944 -121.005833    CA  \n",
       "1          A  38.933056 -120.404444    CA  \n",
       "2          A  38.984167 -120.735556    CA  \n",
       "3          A  38.559167 -119.913333    CA  \n",
       "4          A  38.559167 -119.933056    CA  "
      ]
     },
     "execution_count": 3,
     "metadata": {},
     "output_type": "execute_result"
    }
   ],
   "source": [
    "df.head()"
   ]
  },
  {
   "cell_type": "code",
   "execution_count": 4,
   "metadata": {},
   "outputs": [],
   "source": [
    "df.disc_date = pd.to_datetime(df.disc_date)"
   ]
  },
  {
   "cell_type": "code",
   "execution_count": 5,
   "metadata": {},
   "outputs": [
    {
     "data": {
      "text/plain": [
       "id                     int64\n",
       "year                   int64\n",
       "disc_date     datetime64[ns]\n",
       "disc_doy               int64\n",
       "cause_code           float64\n",
       "cause                 object\n",
       "size                 float64\n",
       "size_class            object\n",
       "lat                  float64\n",
       "lon                  float64\n",
       "state                 object\n",
       "dtype: object"
      ]
     },
     "execution_count": 5,
     "metadata": {},
     "output_type": "execute_result"
    }
   ],
   "source": [
    "df.dtypes"
   ]
  },
  {
   "cell_type": "markdown",
   "metadata": {},
   "source": [
    "Adding square meters column. 1 acre = 4046.8564224 square meters"
   ]
  },
  {
   "cell_type": "code",
   "execution_count": 6,
   "metadata": {},
   "outputs": [],
   "source": [
    "func = lambda x: x * 4046.8564224\n",
    "df['size_sqmt'] = df['size'].apply(func)"
   ]
  },
  {
   "cell_type": "markdown",
   "metadata": {},
   "source": [
    "## Are wildfires more dangerous in the summer?"
   ]
  },
  {
   "cell_type": "markdown",
   "metadata": {},
   "source": [
    "Adding a season column for easier analysis."
   ]
  },
  {
   "cell_type": "code",
   "execution_count": 7,
   "metadata": {},
   "outputs": [],
   "source": [
    "Y = 2000\n",
    "seasons = [('winter', (date(Y,  1,  1),  date(Y,  3, 20))),\n",
    "           ('spring', (date(Y,  3, 21),  date(Y,  6, 20))),\n",
    "           ('summer', (date(Y,  6, 21),  date(Y,  9, 22))),\n",
    "           ('autumn', (date(Y,  9, 23),  date(Y, 12, 20))),\n",
    "           ('winter', (date(Y, 12, 21),  date(Y, 12, 31)))]"
   ]
  },
  {
   "cell_type": "code",
   "execution_count": 8,
   "metadata": {},
   "outputs": [],
   "source": [
    "def get_season(now):\n",
    "    if isinstance(now, datetime):\n",
    "        now = now.date()\n",
    "    now = now.replace(year=Y)\n",
    "    return next(season for season, (start, end) in seasons\n",
    "                if start <= now <= end)"
   ]
  },
  {
   "cell_type": "code",
   "execution_count": 9,
   "metadata": {},
   "outputs": [],
   "source": [
    "df['season'] = df.disc_date.apply(get_season)"
   ]
  },
  {
   "cell_type": "code",
   "execution_count": 10,
   "metadata": {},
   "outputs": [],
   "source": [
    "func = lambda x: 'summer' if x == 'summer' else 'rest_of_year'"
   ]
  },
  {
   "cell_type": "code",
   "execution_count": 11,
   "metadata": {},
   "outputs": [],
   "source": [
    "df['season_div'] = df['season'].apply(func)"
   ]
  },
  {
   "cell_type": "markdown",
   "metadata": {},
   "source": [
    "### Two-tailed test"
   ]
  },
  {
   "cell_type": "code",
   "execution_count": 12,
   "metadata": {},
   "outputs": [],
   "source": [
    "mean_acres = df.groupby(['season_div', 'year']).mean()['size_sqmt']"
   ]
  },
  {
   "cell_type": "markdown",
   "metadata": {},
   "source": [
    "$H_0$ = The mean acres burned in summer is equal to the mean of acres burned in the rest of the year."
   ]
  },
  {
   "cell_type": "code",
   "execution_count": 13,
   "metadata": {},
   "outputs": [
    {
     "data": {
      "text/plain": [
       "Ttest_indResult(statistic=5.542179622931899, pvalue=5.992742230101627e-06)"
      ]
     },
     "execution_count": 13,
     "metadata": {},
     "output_type": "execute_result"
    }
   ],
   "source": [
    "stats.ttest_ind(mean_acres.loc['summer',:], mean_acres.loc['rest_of_year',:], equal_var=False)"
   ]
  },
  {
   "cell_type": "markdown",
   "metadata": {},
   "source": [
    "We can reject the null hypothesis."
   ]
  },
  {
   "cell_type": "markdown",
   "metadata": {},
   "source": [
    "### One-tailed test"
   ]
  },
  {
   "cell_type": "markdown",
   "metadata": {},
   "source": [
    "$H_0$ = The mean acres burned in summer is less than or equal the mean of acres burned in the rest of the year."
   ]
  },
  {
   "cell_type": "code",
   "execution_count": 14,
   "metadata": {},
   "outputs": [
    {
     "data": {
      "text/plain": [
       "Ttest_indResult(statistic=5.542179622931899, pvalue=5.992742230101627e-06)"
      ]
     },
     "execution_count": 14,
     "metadata": {},
     "output_type": "execute_result"
    }
   ],
   "source": [
    "stats.ttest_ind(mean_acres.loc['summer',:], mean_acres.loc['rest_of_year',:], equal_var=False)"
   ]
  },
  {
   "cell_type": "markdown",
   "metadata": {},
   "source": [
    "We can reject the null hypothesis."
   ]
  },
  {
   "cell_type": "markdown",
   "metadata": {},
   "source": [
    "## Plot for presentation"
   ]
  },
  {
   "cell_type": "code",
   "execution_count": 28,
   "metadata": {},
   "outputs": [],
   "source": [
    "plt.style.use('dark_background')"
   ]
  },
  {
   "cell_type": "code",
   "execution_count": 41,
   "metadata": {
    "scrolled": false
   },
   "outputs": [
    {
     "data": {
      "image/png": "[encoded data removed]",
      "text/plain": [
       "<Figure size 1440x432 with 1 Axes>"
      ]
     },
     "metadata": {},
     "output_type": "display_data"
    }
   ],
   "source": [
    "ind = np.arange(len(df.groupby('year').mean()['size_sqmt'].index))\n",
    "width = 0.3\n",
    "\n",
    "fig, ax = plt.subplots(figsize=(20,6))\n",
    "ax.bar(ind - width/2, df[df.season_div == 'summer'].groupby('year').mean()['size_sqmt'], width,\n",
    "       label='Summer', color='#ed1815')\n",
    "ax.bar(ind + width/2, df[df.season_div == 'rest_of_year'].groupby('year').mean()['size_sqmt'], width,\n",
    "       label='Rest of the Year', color='#3f56ea')\n",
    "plt.title('Average acres burned in Summer vs. Rest of the Year', fontsize=30, fontname='Farro')\n",
    "ax.grid(alpha=0.25, )\n",
    "ax.set_xlabel('Year', fontsize=20, fontname='Farro')\n",
    "ax.set_ylabel('Square kilometers', fontsize=20, fontname='Farro')\n",
    "ax.set_xticks(range(len(df.year.unique())))\n",
    "ax.set_xticklabels(sorted(df.year.unique().tolist()), fontsize=15, fontname='Farro')\n",
    "\n",
    "#plt.savefig('mean_acres_summer.png', dpi=300)\n",
    "\n",
    "ax.legend()\n",
    "plt.show()"
   ]
  },
  {
   "cell_type": "code",
   "execution_count": 50,
   "metadata": {},
   "outputs": [
    {
     "data": {
      "text/plain": [
       "{'Abyssinica SIL',\n",
       " 'Ani',\n",
       " 'AnjaliOldLipi',\n",
       " 'Chandas',\n",
       " 'Chilanka',\n",
       " 'DejaVu Math TeX Gyre',\n",
       " 'DejaVu Sans',\n",
       " 'DejaVu Sans Display',\n",
       " 'DejaVu Sans Mono',\n",
       " 'DejaVu Serif',\n",
       " 'DejaVu Serif Display',\n",
       " 'Droid Sans Fallback',\n",
       " 'Dyuthi',\n",
       " 'FreeMono',\n",
       " 'FreeSans',\n",
       " 'FreeSerif',\n",
       " 'Garuda',\n",
       " 'Gubbi',\n",
       " 'Jamrul',\n",
       " 'KacstArt',\n",
       " 'KacstBook',\n",
       " 'KacstDecorative',\n",
       " 'KacstDigital',\n",
       " 'KacstFarsi',\n",
       " 'KacstLetter',\n",
       " 'KacstNaskh',\n",
       " 'KacstOffice',\n",
       " 'KacstOne',\n",
       " 'KacstPen',\n",
       " 'KacstPoster',\n",
       " 'KacstQurn',\n",
       " 'KacstScreen',\n",
       " 'KacstTitle',\n",
       " 'KacstTitleL',\n",
       " 'Kalapi',\n",
       " 'Kalimati',\n",
       " 'Karumbi',\n",
       " 'Keraleeyam',\n",
       " 'Khmer OS',\n",
       " 'Khmer OS System',\n",
       " 'Kinnari',\n",
       " 'LKLUG',\n",
       " 'Laksaman',\n",
       " 'Liberation Mono',\n",
       " 'Liberation Sans',\n",
       " 'Liberation Sans Narrow',\n",
       " 'Liberation Serif',\n",
       " 'Likhan',\n",
       " 'Lohit Assamese',\n",
       " 'Lohit Bengali',\n",
       " 'Lohit Devanagari',\n",
       " 'Lohit Gujarati',\n",
       " 'Lohit Gurmukhi',\n",
       " 'Lohit Kannada',\n",
       " 'Lohit Malayalam',\n",
       " 'Lohit Odia',\n",
       " 'Lohit Tamil',\n",
       " 'Lohit Tamil Classical',\n",
       " 'Lohit Telugu',\n",
       " 'Loma',\n",
       " 'Manjari',\n",
       " 'MathJax_AMS',\n",
       " 'MathJax_Caligraphic',\n",
       " 'MathJax_Fraktur',\n",
       " 'MathJax_Main',\n",
       " 'MathJax_Math',\n",
       " 'MathJax_SansSerif',\n",
       " 'MathJax_Script',\n",
       " 'MathJax_Size1',\n",
       " 'MathJax_Size2',\n",
       " 'MathJax_Size3',\n",
       " 'MathJax_Size4',\n",
       " 'MathJax_Typewriter',\n",
       " 'MathJax_Vector',\n",
       " 'MathJax_Vector-Bold',\n",
       " 'MathJax_WinChrome',\n",
       " 'MathJax_WinIE6',\n",
       " 'Meera',\n",
       " 'Mitra Mono',\n",
       " 'Mukti Narrow',\n",
       " 'Nakula',\n",
       " 'NanumBarunGothic',\n",
       " 'NanumGothic',\n",
       " 'NanumMyeongjo',\n",
       " 'NanumSquare',\n",
       " 'NanumSquareRound',\n",
       " 'Navilu',\n",
       " 'Norasi',\n",
       " 'Noto Kufi Arabic',\n",
       " 'Noto Mono',\n",
       " 'Noto Naskh Arabic',\n",
       " 'Noto Naskh Arabic UI',\n",
       " 'Noto Nastaliq Urdu',\n",
       " 'Noto Sans',\n",
       " 'Noto Sans Adlam',\n",
       " 'Noto Sans Adlam Unjoined',\n",
       " 'Noto Sans Anatolian Hieroglyphs',\n",
       " 'Noto Sans Arabic',\n",
       " 'Noto Sans Arabic UI',\n",
       " 'Noto Sans Armenian',\n",
       " 'Noto Sans Avestan',\n",
       " 'Noto Sans Balinese',\n",
       " 'Noto Sans Bamum',\n",
       " 'Noto Sans Batak',\n",
       " 'Noto Sans Bengali',\n",
       " 'Noto Sans Bengali UI',\n",
       " 'Noto Sans Brahmi',\n",
       " 'Noto Sans Buginese',\n",
       " 'Noto Sans Buhid',\n",
       " 'Noto Sans CJK JP',\n",
       " 'Noto Sans Canadian Aboriginal',\n",
       " 'Noto Sans Carian',\n",
       " 'Noto Sans Chakma',\n",
       " 'Noto Sans Cham',\n",
       " 'Noto Sans Cherokee',\n",
       " 'Noto Sans Coptic',\n",
       " 'Noto Sans Cuneiform',\n",
       " 'Noto Sans Cypriot',\n",
       " 'Noto Sans Deseret',\n",
       " 'Noto Sans Devanagari',\n",
       " 'Noto Sans Devanagari UI',\n",
       " 'Noto Sans Display',\n",
       " 'Noto Sans Egyptian Hieroglyphs',\n",
       " 'Noto Sans Ethiopic',\n",
       " 'Noto Sans Georgian',\n",
       " 'Noto Sans Glagolitic',\n",
       " 'Noto Sans Gothic',\n",
       " 'Noto Sans Gujarati',\n",
       " 'Noto Sans Gujarati UI',\n",
       " 'Noto Sans Gurmukhi',\n",
       " 'Noto Sans Gurmukhi UI',\n",
       " 'Noto Sans Hanunoo',\n",
       " 'Noto Sans Hebrew',\n",
       " 'Noto Sans Imperial Aramaic',\n",
       " 'Noto Sans Inscriptional Pahlavi',\n",
       " 'Noto Sans Inscriptional Parthian',\n",
       " 'Noto Sans Javanese',\n",
       " 'Noto Sans Kaithi',\n",
       " 'Noto Sans Kannada',\n",
       " 'Noto Sans Kannada UI',\n",
       " 'Noto Sans Kayah Li',\n",
       " 'Noto Sans Kharoshthi',\n",
       " 'Noto Sans Khmer',\n",
       " 'Noto Sans Khmer UI',\n",
       " 'Noto Sans Lao',\n",
       " 'Noto Sans Lao UI',\n",
       " 'Noto Sans Lepcha',\n",
       " 'Noto Sans Limbu',\n",
       " 'Noto Sans Linear B',\n",
       " 'Noto Sans Lisu',\n",
       " 'Noto Sans Lycian',\n",
       " 'Noto Sans Lydian',\n",
       " 'Noto Sans Malayalam',\n",
       " 'Noto Sans Malayalam UI',\n",
       " 'Noto Sans Mandaic',\n",
       " 'Noto Sans Meetei Mayek',\n",
       " 'Noto Sans Mongolian',\n",
       " 'Noto Sans Mono',\n",
       " 'Noto Sans Myanmar',\n",
       " 'Noto Sans Myanmar UI',\n",
       " 'Noto Sans NKo',\n",
       " 'Noto Sans New Tai Lue',\n",
       " 'Noto Sans Ogham',\n",
       " 'Noto Sans Ol Chiki',\n",
       " 'Noto Sans Old Italic',\n",
       " 'Noto Sans Old Persian',\n",
       " 'Noto Sans Old South Arabian',\n",
       " 'Noto Sans Old Turkic',\n",
       " 'Noto Sans Oriya',\n",
       " 'Noto Sans Oriya UI',\n",
       " 'Noto Sans Osage',\n",
       " 'Noto Sans Osmanya',\n",
       " 'Noto Sans Phags Pa',\n",
       " 'Noto Sans Phoenician',\n",
       " 'Noto Sans Rejang',\n",
       " 'Noto Sans Runic',\n",
       " 'Noto Sans Samaritan',\n",
       " 'Noto Sans Saurashtra',\n",
       " 'Noto Sans Shavian',\n",
       " 'Noto Sans Sinhala',\n",
       " 'Noto Sans Sinhala UI',\n",
       " 'Noto Sans Sundanese',\n",
       " 'Noto Sans Syloti Nagri',\n",
       " 'Noto Sans Symbols',\n",
       " 'Noto Sans Symbols2',\n",
       " 'Noto Sans Syriac Eastern',\n",
       " 'Noto Sans Syriac Estrangela',\n",
       " 'Noto Sans Syriac Western',\n",
       " 'Noto Sans Tagalog',\n",
       " 'Noto Sans Tagbanwa',\n",
       " 'Noto Sans Tai Le',\n",
       " 'Noto Sans Tai Tham',\n",
       " 'Noto Sans Tai Viet',\n",
       " 'Noto Sans Tamil',\n",
       " 'Noto Sans Tamil UI',\n",
       " 'Noto Sans Telugu',\n",
       " 'Noto Sans Telugu UI',\n",
       " 'Noto Sans Thaana',\n",
       " 'Noto Sans Thai',\n",
       " 'Noto Sans Thai UI',\n",
       " 'Noto Sans Tibetan',\n",
       " 'Noto Sans Tifinagh',\n",
       " 'Noto Sans Ugaritic',\n",
       " 'Noto Sans Vai',\n",
       " 'Noto Sans Yi',\n",
       " 'Noto Serif',\n",
       " 'Noto Serif Armenian',\n",
       " 'Noto Serif Bengali',\n",
       " 'Noto Serif CJK JP',\n",
       " 'Noto Serif Devanagari',\n",
       " 'Noto Serif Display',\n",
       " 'Noto Serif Ethiopic',\n",
       " 'Noto Serif Georgian',\n",
       " 'Noto Serif Gujarati',\n",
       " 'Noto Serif Hebrew',\n",
       " 'Noto Serif Kannada',\n",
       " 'Noto Serif Khmer',\n",
       " 'Noto Serif Lao',\n",
       " 'Noto Serif Malayalam',\n",
       " 'Noto Serif Myanmar',\n",
       " 'Noto Serif Sinhala',\n",
       " 'Noto Serif Tamil',\n",
       " 'Noto Serif Telugu',\n",
       " 'Noto Serif Thai',\n",
       " 'OpenSymbol',\n",
       " 'Padauk',\n",
       " 'Padauk Book',\n",
       " 'Pagul',\n",
       " 'Phetsarath OT',\n",
       " 'Pothana2000',\n",
       " 'Purisa',\n",
       " 'Rachana',\n",
       " 'RaghuMalayalam',\n",
       " 'Rekha',\n",
       " 'STIXGeneral',\n",
       " 'STIXNonUnicode',\n",
       " 'STIXSizeFiveSym',\n",
       " 'STIXSizeFourSym',\n",
       " 'STIXSizeOneSym',\n",
       " 'STIXSizeThreeSym',\n",
       " 'STIXSizeTwoSym',\n",
       " 'Saab',\n",
       " 'Sahadeva',\n",
       " 'Samanata',\n",
       " 'Samyak Devanagari',\n",
       " 'Samyak Gujarati',\n",
       " 'Samyak Malayalam',\n",
       " 'Samyak Tamil',\n",
       " 'Sawasdee',\n",
       " 'Suruma',\n",
       " 'Symbola',\n",
       " 'TakaoPGothic',\n",
       " 'Tibetan Machine Uni',\n",
       " 'Tlwg Mono',\n",
       " 'Tlwg Typewriter',\n",
       " 'Tlwg Typist',\n",
       " 'Tlwg Typo',\n",
       " 'Ubuntu',\n",
       " 'Ubuntu Condensed',\n",
       " 'Ubuntu Mono',\n",
       " 'Umpush',\n",
       " 'Uroob',\n",
       " 'Vemana2000',\n",
       " 'Waree',\n",
       " 'WenQuanYi Micro Hei',\n",
       " 'aakar',\n",
       " 'cmb10',\n",
       " 'cmex10',\n",
       " 'cmmi10',\n",
       " 'cmr10',\n",
       " 'cmss10',\n",
       " 'cmsy10',\n",
       " 'cmtt10',\n",
       " 'mry_KacstQurn',\n",
       " 'ori1Uni',\n",
       " 'padmaa',\n",
       " 'padmaa-Bold.1.1'}"
      ]
     },
     "execution_count": 50,
     "metadata": {},
     "output_type": "execute_result"
    }
   ],
   "source": [
    "import matplotlib.font_manager\n",
    "matplotlib.font_manager.findSystemFonts(fontpaths=None, fontext='ttf')\n",
    "set([f.name for f in matplotlib.font_manager.fontManager.ttflist])"
   ]
  },
  {
   "cell_type": "markdown",
   "metadata": {},
   "source": [
    "## Is the mean amount of acres burned related to the cause of the fire?"
   ]
  },
  {
   "cell_type": "code",
   "execution_count": 42,
   "metadata": {},
   "outputs": [
    {
     "data": {
      "text/plain": [
       "<BarContainer object of 13 artists>"
      ]
     },
     "execution_count": 42,
     "metadata": {},
     "output_type": "execute_result"
    },
    {
     "data": {
      "image/png": "[encoded data removed]",
      "text/plain": [
       "<Figure size 1440x432 with 1 Axes>"
      ]
     },
     "metadata": {},
     "output_type": "display_data"
    }
   ],
   "source": [
    "plt.figure(figsize=(20,6))\n",
    "\n",
    "plt.bar(df.groupby('cause').mean()['size'].index, df.groupby('cause').mean()['size'])"
   ]
  },
  {
   "cell_type": "code",
   "execution_count": 43,
   "metadata": {},
   "outputs": [
    {
     "data": {
      "text/plain": [
       "<BarContainer object of 13 artists>"
      ]
     },
     "execution_count": 43,
     "metadata": {},
     "output_type": "execute_result"
    },
    {
     "data": {
      "image/png": "[encoded data removed]",
      "text/plain": [
       "<Figure size 1440x432 with 1 Axes>"
      ]
     },
     "metadata": {},
     "output_type": "display_data"
    }
   ],
   "source": [
    "plt.figure(figsize=(20,6))\n",
    "\n",
    "plt.bar(df.groupby('cause').count()['size'].index, df.groupby('cause').count()['size'])"
   ]
  }
 ],
 "metadata": {
  "kernelspec": {
   "display_name": "Python 3",
   "language": "python",
   "name": "python3"
  },
  "language_info": {
   "codemirror_mode": {
    "name": "ipython",
    "version": 3
   },
   "file_extension": ".py",
   "mimetype": "text/x-python",
   "name": "python",
   "nbconvert_exporter": "python",
   "pygments_lexer": "ipython3",
   "version": "3.7.3"
  }
 },
 "nbformat": 4,
 "nbformat_minor": 2
}
