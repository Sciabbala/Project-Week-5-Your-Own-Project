{
 "cells": [
  {
   "cell_type": "markdown",
   "metadata": {},
   "source": [
    "Data from \"United States Summary: 2010, Population and Housing Unit Counts, 2010 Census of Population and Housing\".  \n",
    "https://en.wikipedia.org/wiki/List_of_U.S._states_and_territories_by_area#cite_note-2010census-2"
   ]
  },
  {
   "cell_type": "code",
   "execution_count": 11,
   "metadata": {},
   "outputs": [],
   "source": [
    "import pandas as pd"
   ]
  },
  {
   "cell_type": "markdown",
   "metadata": {},
   "source": [
    "List of states."
   ]
  },
  {
   "cell_type": "code",
   "execution_count": 1,
   "metadata": {},
   "outputs": [],
   "source": [
    "state_lst = '''Alaska\n",
    " Texas\n",
    " California\n",
    " Montana\n",
    " New Mexico\n",
    " Arizona\n",
    " Nevada\n",
    " Colorado\n",
    " Oregon\n",
    " Wyoming\n",
    " Michigan\n",
    " Minnesota\n",
    " Utah\n",
    " Idaho\n",
    " Kansas\n",
    " Nebraska\n",
    " South Dakota\n",
    " Washington\n",
    "  North Dakota\n",
    " Oklahoma\n",
    " Missouri\n",
    " Florida\n",
    " Wisconsin\n",
    " Georgia\n",
    " Illinois\n",
    " Iowa\n",
    " New York\n",
    " North Carolina\n",
    " Arkansas\n",
    " Alabama\n",
    " Louisiana\n",
    " Mississippi\n",
    " Pennsylvania\n",
    " Ohio\n",
    " Virginia\n",
    " Tennessee\n",
    " Kentucky\n",
    " Indiana\n",
    " Maine\n",
    " South Carolina\n",
    " West Virginia\n",
    " Maryland\n",
    " Hawaii\n",
    " Massachusetts\n",
    " Vermont\n",
    " New Hampshire\n",
    " New Jersey\n",
    " Connecticut\n",
    " Delaware\n",
    " Rhode Island'''"
   ]
  },
  {
   "cell_type": "markdown",
   "metadata": {},
   "source": [
    "List of land area in the same order."
   ]
  },
  {
   "cell_type": "code",
   "execution_count": 8,
   "metadata": {},
   "outputs": [],
   "source": [
    "area_lst = '''1,477,953\n",
    "676,587\n",
    "403,466\n",
    "376,962\n",
    "314,161\n",
    "294,207\n",
    "284,332\n",
    "268,431\n",
    "248,608\n",
    "251,470\n",
    "146,435\n",
    "206,232\n",
    "212,818\n",
    "214,045\n",
    "211,754\n",
    "198,974\n",
    "196,350\n",
    "172,119\n",
    "178,711\n",
    "177,660\n",
    "178,040\n",
    "138,887\n",
    "140,268\n",
    "148,959\n",
    "143,793\n",
    "144,669\n",
    "122,057\n",
    "125,920\n",
    "134,771\n",
    "131,171\n",
    "111,898\n",
    "121,531\n",
    "115,883\n",
    "105,829\n",
    "102,279\n",
    "106,798\n",
    "102,269\n",
    "92,789\n",
    "79,883\n",
    "77,857\n",
    "62,259\n",
    "25,142\n",
    "16,635\n",
    "20,202\n",
    "23,871\n",
    "23,187\n",
    "19,047\n",
    "12,542\n",
    "5,047\n",
    "2,678'''"
   ]
  },
  {
   "cell_type": "code",
   "execution_count": 4,
   "metadata": {},
   "outputs": [],
   "source": [
    "state_lst = [x.strip() for x in state_lst.split('\\n')]"
   ]
  },
  {
   "cell_type": "code",
   "execution_count": 9,
   "metadata": {},
   "outputs": [],
   "source": [
    "area_lst = [x.strip().replace(',', '') for x in area_lst.split('\\n')]"
   ]
  },
  {
   "cell_type": "code",
   "execution_count": 10,
   "metadata": {},
   "outputs": [
    {
     "data": {
      "text/plain": [
       "['1477953',\n",
       " '676587',\n",
       " '403466',\n",
       " '376962',\n",
       " '314161',\n",
       " '294207',\n",
       " '284332',\n",
       " '268431',\n",
       " '248608',\n",
       " '251470',\n",
       " '146435',\n",
       " '206232',\n",
       " '212818',\n",
       " '214045',\n",
       " '211754',\n",
       " '198974',\n",
       " '196350',\n",
       " '172119',\n",
       " '178711',\n",
       " '177660',\n",
       " '178040',\n",
       " '138887',\n",
       " '140268',\n",
       " '148959',\n",
       " '143793',\n",
       " '144669',\n",
       " '122057',\n",
       " '125920',\n",
       " '134771',\n",
       " '131171',\n",
       " '111898',\n",
       " '121531',\n",
       " '115883',\n",
       " '105829',\n",
       " '102279',\n",
       " '106798',\n",
       " '102269',\n",
       " '92789',\n",
       " '79883',\n",
       " '77857',\n",
       " '62259',\n",
       " '25142',\n",
       " '16635',\n",
       " '20202',\n",
       " '23871',\n",
       " '23187',\n",
       " '19047',\n",
       " '12542',\n",
       " '5047',\n",
       " '2678']"
      ]
     },
     "execution_count": 10,
     "metadata": {},
     "output_type": "execute_result"
    }
   ],
   "source": [
    "area_lst"
   ]
  },
  {
   "cell_type": "code",
   "execution_count": 12,
   "metadata": {},
   "outputs": [],
   "source": [
    "df = pd.DataFrame(zip(state_lst, area_lst), columns=['state', 'area'])"
   ]
  },
  {
   "cell_type": "code",
   "execution_count": 14,
   "metadata": {},
   "outputs": [
    {
     "data": {
      "text/html": [
       "<div>\n",
       "<style scoped>\n",
       "    .dataframe tbody tr th:only-of-type {\n",
       "        vertical-align: middle;\n",
       "    }\n",
       "\n",
       "    .dataframe tbody tr th {\n",
       "        vertical-align: top;\n",
       "    }\n",
       "\n",
       "    .dataframe thead th {\n",
       "        text-align: right;\n",
       "    }\n",
       "</style>\n",
       "<table border=\"1\" class=\"dataframe\">\n",
       "  <thead>\n",
       "    <tr style=\"text-align: right;\">\n",
       "      <th></th>\n",
       "      <th>state</th>\n",
       "      <th>area</th>\n",
       "    </tr>\n",
       "  </thead>\n",
       "  <tbody>\n",
       "    <tr>\n",
       "      <th>0</th>\n",
       "      <td>Alaska</td>\n",
       "      <td>1477953</td>\n",
       "    </tr>\n",
       "    <tr>\n",
       "      <th>1</th>\n",
       "      <td>Texas</td>\n",
       "      <td>676587</td>\n",
       "    </tr>\n",
       "    <tr>\n",
       "      <th>2</th>\n",
       "      <td>California</td>\n",
       "      <td>403466</td>\n",
       "    </tr>\n",
       "    <tr>\n",
       "      <th>3</th>\n",
       "      <td>Montana</td>\n",
       "      <td>376962</td>\n",
       "    </tr>\n",
       "    <tr>\n",
       "      <th>4</th>\n",
       "      <td>New Mexico</td>\n",
       "      <td>314161</td>\n",
       "    </tr>\n",
       "  </tbody>\n",
       "</table>\n",
       "</div>"
      ],
      "text/plain": [
       "        state     area\n",
       "0      Alaska  1477953\n",
       "1       Texas   676587\n",
       "2  California   403466\n",
       "3     Montana   376962\n",
       "4  New Mexico   314161"
      ]
     },
     "execution_count": 14,
     "metadata": {},
     "output_type": "execute_result"
    }
   ],
   "source": [
    "df.head()"
   ]
  },
  {
   "cell_type": "markdown",
   "metadata": {},
   "source": [
    "Converting state names to related abbreviation to conform with wildfires df."
   ]
  },
  {
   "cell_type": "code",
   "execution_count": 15,
   "metadata": {},
   "outputs": [],
   "source": [
    "abbr_dict = {\n",
    "    'Alabama': 'AL',\n",
    "    'Alaska': 'AK',\n",
    "    'Arizona': 'AZ',\n",
    "    'Arkansas': 'AR',\n",
    "    'California': 'CA',\n",
    "    'Colorado': 'CO',\n",
    "    'Connecticut': 'CT',\n",
    "    'Delaware': 'DE',\n",
    "    'District of Columbia': 'DC',\n",
    "    'Florida': 'FL',\n",
    "    'Georgia': 'GA',\n",
    "    'Hawaii': 'HI',\n",
    "    'Idaho': 'ID',\n",
    "    'Illinois': 'IL',\n",
    "    'Indiana': 'IN',\n",
    "    'Iowa': 'IA',\n",
    "    'Kansas': 'KS',\n",
    "    'Kentucky': 'KY',\n",
    "    'Louisiana': 'LA',\n",
    "    'Maine': 'ME',\n",
    "    'Maryland': 'MD',\n",
    "    'Massachusetts': 'MA',\n",
    "    'Michigan': 'MI',\n",
    "    'Minnesota': 'MN',\n",
    "    'Mississippi': 'MS',\n",
    "    'Missouri': 'MO',\n",
    "    'Montana': 'MT',\n",
    "    'Nebraska': 'NE',\n",
    "    'Nevada': 'NV',\n",
    "    'New Hampshire': 'NH',\n",
    "    'New Jersey': 'NJ',\n",
    "    'New Mexico': 'NM',\n",
    "    'New York': 'NY',\n",
    "    'North Carolina': 'NC',\n",
    "    'North Dakota': 'ND',\n",
    "    'Northern Mariana Islands':'MP',\n",
    "    'Ohio': 'OH',\n",
    "    'Oklahoma': 'OK',\n",
    "    'Oregon': 'OR',\n",
    "    'Palau': 'PW',\n",
    "    'Pennsylvania': 'PA',\n",
    "    'Puerto Rico': 'PR',\n",
    "    'Rhode Island': 'RI',\n",
    "    'South Carolina': 'SC',\n",
    "    'South Dakota': 'SD',\n",
    "    'Tennessee': 'TN',\n",
    "    'Texas': 'TX',\n",
    "    'Utah': 'UT',\n",
    "    'Vermont': 'VT',\n",
    "    'Virgin Islands': 'VI',\n",
    "    'Virginia': 'VA',\n",
    "    'Washington': 'WA',\n",
    "    'West Virginia': 'WV',\n",
    "    'Wisconsin': 'WI',\n",
    "    'Wyoming': 'WY',\n",
    "}"
   ]
  },
  {
   "cell_type": "code",
   "execution_count": 26,
   "metadata": {},
   "outputs": [],
   "source": [
    "f = lambda x: abbr_dict[x]\n",
    "\n",
    "df['state'] = df['state'].map(func)"
   ]
  },
  {
   "cell_type": "code",
   "execution_count": 28,
   "metadata": {},
   "outputs": [],
   "source": [
    "df.to_csv('state_area.csv')"
   ]
  }
 ],
 "metadata": {
  "kernelspec": {
   "display_name": "Python 3",
   "language": "python",
   "name": "python3"
  },
  "language_info": {
   "codemirror_mode": {
    "name": "ipython",
    "version": 3
   },
   "file_extension": ".py",
   "mimetype": "text/x-python",
   "name": "python",
   "nbconvert_exporter": "python",
   "pygments_lexer": "ipython3",
   "version": "3.7.3"
  }
 },
 "nbformat": 4,
 "nbformat_minor": 2
}
